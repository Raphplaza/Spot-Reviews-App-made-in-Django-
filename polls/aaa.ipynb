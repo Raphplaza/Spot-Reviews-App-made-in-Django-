{
 "cells": [],
 "metadata": {
  "interpreter": {
   "hash": "911de4a8d353716fbbaaa8d1c96c736a110c372b8891ce36df1033d6b4be2b58"
  },
  "kernelspec": {
   "display_name": "Python 3.10.0 64-bit ('Django_1-94puIfKJ': venv)",
   "name": "python3"
  },
  "language_info": {
   "codemirror_mode": {
    "name": "ipython",
    "version": 3
   },
   "file_extension": ".py",
   "mimetype": "text/x-python",
   "name": "python",
   "nbconvert_exporter": "python",
   "pygments_lexer": "ipython3",
   "version": "3.10.0"
  },
  "orig_nbformat": 4
 },
 "nbformat": 4,
 "nbformat_minor": 2
}
